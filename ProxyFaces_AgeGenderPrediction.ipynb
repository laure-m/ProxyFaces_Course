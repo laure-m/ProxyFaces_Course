{
  "nbformat": 4,
  "nbformat_minor": 0,
  "metadata": {
    "colab": {
      "provenance": [],
      "authorship_tag": "ABX9TyP/ItiIprVcuQ781yZhPBv3",
      "include_colab_link": true
    },
    "kernelspec": {
      "name": "python3",
      "display_name": "Python 3"
    },
    "language_info": {
      "name": "python"
    },
    "accelerator": "GPU",
    "gpuClass": "standard"
  },
  "cells": [
    {
      "cell_type": "markdown",
      "metadata": {
        "id": "view-in-github",
        "colab_type": "text"
      },
      "source": [
        "<a href=\"https://colab.research.google.com/github/laure-m/ProxyFaces_Course/blob/main/ProxyFaces_AgeGenderPrediction.ipynb\" target=\"_parent\"><img src=\"https://colab.research.google.com/assets/colab-badge.svg\" alt=\"Open In Colab\"/></a>"
      ]
    },
    {
      "cell_type": "markdown",
      "source": [
        "PROXY FACES UCLA AUD SPRING TECH SEMINAR \n",
        "#Age_Gender_Prediction Notebook\n",
        "This notebook will walkthrough all the steps for performing realtime face detection, and age and gender prediction using YOLOv5 object detections on your webcam while in Google Colab. "
      ],
      "metadata": {
        "id": "npyx7ME6INfq"
      }
    },
    {
      "cell_type": "markdown",
      "source": [
        "***INITIAL SETUP***\n",
        "\n",
        "Step 01: Import Dependencies"
      ],
      "metadata": {
        "id": "4szmu4gioGQo"
      }
    },
    {
      "cell_type": "code",
      "execution_count": null,
      "metadata": {
        "id": "1g7_CGn0oBRN"
      },
      "outputs": [],
      "source": [
        "from PIL import Image, ImageDraw # Load Images & Draw Rectangles.\n",
        "import torchvision.transforms as transforms # Tensor Transformation.\n",
        "import torchvision.models as models # ResNet-18 PyTorch Model.\n",
        "import matplotlib.pyplot as plt # Display Images.\n",
        "from google.colab import drive # Load Google Drive files.\n",
        "from torch import nn # Neural Network Layers\n",
        "import torch # YOLO v5 Model\n",
        "import time # Benchmark extraction\n",
        "import os"
      ]
    },
    {
      "cell_type": "markdown",
      "source": [
        "Step 02: Mount to your Drive"
      ],
      "metadata": {
        "id": "uyDKNh9PI19C"
      }
    },
    {
      "cell_type": "code",
      "source": [
        "\n",
        "try:\n",
        "    from google.colab import drive # Load Google Drive files.\n",
        "    drive.mount('/content/drive', force_remount=True)\n",
        "    projectPath = '/content/Age-Gender-Prediction/'\n",
        "except ModuleNotFoundError:\n",
        "    projectPath = os.getcwd() + '/'"
      ],
      "metadata": {
        "id": "3QvjtfraoECo"
      },
      "execution_count": null,
      "outputs": []
    },
    {
      "cell_type": "markdown",
      "source": [
        "Step 03: Clone Sklyvan's Github folders"
      ],
      "metadata": {
        "id": "vcT0OD4EI5rs"
      }
    },
    {
      "cell_type": "code",
      "source": [
        "!git clone https://github.com/Sklyvan/Age-Gender-Prediction"
      ],
      "metadata": {
        "id": "8owlHM2ophY1"
      },
      "execution_count": null,
      "outputs": []
    },
    {
      "cell_type": "markdown",
      "source": [
        "Step 04: Specify the model and group ranges"
      ],
      "metadata": {
        "id": "1vdpz0JgJCKM"
      }
    },
    {
      "cell_type": "code",
      "source": [
        "%cd /content/Age-Gender-Prediction\n",
        "DetectionModel = 'Models/YOLO/Best.onnx'\n",
        "ClassificationModel1 = 'Models/InceptionResNetV1/Age 0.60 + Gender 91.pt'\n",
        "ClassificationModel2 = 'Models/ResNet-18/ResNet-18 Age 0.60 + Gender 93.pt'\n",
        "Classes = 9\n",
        "Groups = ['00-10', '11-20', '21-30', \n",
        "          '31-40', '41-50', '51-60', \n",
        "          '61-70', '71-80', '81-90']\n",
        "\n",
        "runOn = \"cuda:0\" if torch.cuda.is_available() else \"cpu\""
      ],
      "metadata": {
        "id": "KAeIVtQ2oFbA"
      },
      "execution_count": null,
      "outputs": []
    },
    {
      "cell_type": "markdown",
      "source": [
        "Step 05: Download ultralytics/yolov5"
      ],
      "metadata": {
        "id": "T0hNnqRUJJk1"
      }
    },
    {
      "cell_type": "code",
      "source": [
        "\n",
        "FaceDetector = torch.hub.load('ultralytics/yolov5', \n",
        "                              'custom', \n",
        "                              'Models/YOLO/Best.onnx', \n",
        "                              _verbose=False)\n",
        "FaceDetector.eval()\n",
        "FaceDetector.to(runOn);"
      ],
      "metadata": {
        "id": "FDl85WZyoH81"
      },
      "execution_count": null,
      "outputs": []
    },
    {
      "cell_type": "markdown",
      "source": [
        "Step 06: Install pytorch's facenet"
      ],
      "metadata": {
        "id": "ynbkuwlWJRgR"
      }
    },
    {
      "cell_type": "code",
      "source": [
        "\n",
        "!pip install facenet_pytorch"
      ],
      "metadata": {
        "id": "j7btY15QoJMJ"
      },
      "execution_count": null,
      "outputs": []
    },
    {
      "cell_type": "markdown",
      "source": [
        "Step 07: Pretrained face detection model"
      ],
      "metadata": {
        "id": "5Nhua1GfJxsn"
      }
    },
    {
      "cell_type": "code",
      "source": [
        "from facenet_pytorch import InceptionResnetV1\n",
        "\n",
        "FaceClassifier = InceptionResnetV1(pretrained='vggface2', classify=True)\n",
        "\n",
        "FaceClassifier.logits = nn.Linear(512, Classes+2, bias=True)\n",
        "FaceClassifier = nn.Sequential(FaceClassifier, nn.Dropout(0.5))\n",
        "FaceClassifier = nn.Sequential(FaceClassifier, nn.Sigmoid())\n",
        "\n",
        "FaceClassifier.load_state_dict(torch.load(projectPath + ClassificationModel1))\n",
        "FaceClassifier.eval()\n",
        "\n",
        "FaceClassifier.to(runOn);"
      ],
      "metadata": {
        "id": "ypyApqNYoKSZ"
      },
      "execution_count": null,
      "outputs": []
    },
    {
      "cell_type": "markdown",
      "source": [
        "Step 08: Download Weights"
      ],
      "metadata": {
        "id": "38Aia2BNJ45s"
      }
    },
    {
      "cell_type": "code",
      "source": [
        "FaceClassifier = models.resnet18(pretrained=True)\n",
        "\n",
        "FaceClassifier.fc = nn.Linear(512, Classes+2)\n",
        "FaceClassifier = nn.Sequential(FaceClassifier, nn.Sigmoid())\n",
        "\n",
        "FaceClassifier.load_state_dict(torch.load(projectPath + ClassificationModel2))\n",
        "\n",
        "FaceClassifier.eval()\n",
        "FaceClassifier.to(runOn);"
      ],
      "metadata": {
        "id": "pRw9oojuoLvj"
      },
      "execution_count": null,
      "outputs": []
    },
    {
      "cell_type": "markdown",
      "source": [
        "Step 09: Setup face extraction"
      ],
      "metadata": {
        "id": "KB05FGUlKJen"
      }
    },
    {
      "cell_type": "code",
      "source": [
        "transform = transforms.Compose([transforms.ToTensor()])\n",
        "\n",
        "def extractFace(IMG, FaceDetector, threshold=0.50, returnFace=True):\n",
        "    extractedFaces = []\n",
        "    extractedBoxes = []\n",
        "    FaceDetections = FaceDetector(IMG).pandas().xyxy[0]\n",
        "    for detection in FaceDetections.values:\n",
        "        xmin, ymin, xmax, ymax, confidence = detection[:5]\n",
        "        if confidence >= threshold:\n",
        "            bb = [(xmin, ymin), (xmax, ymax)]\n",
        "            if returnFace:\n",
        "                w, h = xmax - xmin, ymax - ymin\n",
        "                currentFace = IMG.crop((xmin, ymin, w+xmin, h+ymin))\n",
        "                extractedFaces.append(currentFace)\n",
        "            extractedBoxes.append(bb)\n",
        "\n",
        "    return extractedFaces, extractedBoxes\n",
        "\n",
        "def readImage(IMG):\n",
        "    IMG = IMG.convert('RGB')\n",
        "    IMG = IMG.resize((200, 200))\n",
        "    tensorIMG = transform(IMG).unsqueeze(0)\n",
        "    return tensorIMG\n",
        "\n",
        "def extractInfo(MyModel, tensorIMG, Verbosity=False):\n",
        "    tensorIMG = tensorIMG.to(runOn)\n",
        "    tensorLabels = MyModel(tensorIMG)[0]\n",
        "\n",
        "    Age = torch.argmax(tensorLabels[:Classes])\n",
        "    Gender = int(torch.argmax(tensorLabels[Classes:]))\n",
        "    Gender = 'Male' if Gender == 0 else 'Female'\n",
        "\n",
        "    C1 = float(torch.max(tensorLabels[:Classes]))\n",
        "    C2 = float(torch.max(tensorLabels[Classes:]))\n",
        "\n",
        "    if Verbosity: \n",
        "        output = [round(float(x), 3) for x in tensorLabels]\n",
        "        print(output)\n",
        "    return Groups[Age], Gender, [round(C1, 3), round(C2, 3)]"
      ],
      "metadata": {
        "id": "Cf-7lBK5oObX"
      },
      "execution_count": null,
      "outputs": []
    },
    {
      "cell_type": "markdown",
      "source": [
        "Step 10: Setup face analysis"
      ],
      "metadata": {
        "id": "19HHvNV-KPC5"
      }
    },
    {
      "cell_type": "code",
      "source": [
        "def returnAnalysis(imagePath):\n",
        "    IMG = Image.open(imagePath)\n",
        "    IMG_ = ImageDraw.Draw(IMG)\n",
        "    t0 = time.time()\n",
        "    faces, bbs = extractFace(IMG, FaceDetector, 0.7)\n",
        "    tt1 = time.time() - t0\n",
        "\n",
        "    tt2 = 0\n",
        "    for face, bb in zip(faces, bbs):\n",
        "        IMG_.rectangle(bb, outline =\"Red\", width=2)\n",
        "        tensorIMG = readImage(face)\n",
        "        t0 = time.time()\n",
        "        Age, Gender, C = extractInfo(FaceClassifier, tensorIMG)\n",
        "        tt = time.time() - t0\n",
        "        tt2 += tt\n",
        "        textBox = f'{Age} {Gender}'\n",
        "        Text = ImageDraw.Draw(IMG)\n",
        "        Text.text((bb[0][0]+5, bb[0][1]+2), \n",
        "                    textBox, \n",
        "                    fill=(255, 0, 0))\n",
        "    return IMG, tt1+tt2"
      ],
      "metadata": {
        "id": "UWxRQpxvoP04"
      },
      "execution_count": null,
      "outputs": []
    },
    {
      "cell_type": "markdown",
      "source": [
        "Step 11: Run on a example/test image"
      ],
      "metadata": {
        "id": "ypL5DpqLKSNT"
      }
    },
    {
      "cell_type": "code",
      "source": [
        "IMG, tt = returnAnalysis(projectPath+'DATA/WIDER_TEST/Image1.jpg')\n",
        "print(f\"Extraction Time: {round(tt, 3)}\")\n",
        "IMG"
      ],
      "metadata": {
        "id": "lMQ5sws7oROQ"
      },
      "execution_count": null,
      "outputs": []
    },
    {
      "cell_type": "markdown",
      "source": [
        "***DETECTION USING REALTIME WEBCAM***"
      ],
      "metadata": {
        "id": "fex5Zw5joTOa"
      }
    },
    {
      "cell_type": "markdown",
      "source": [
        "Step 01: Import Dependencies"
      ],
      "metadata": {
        "id": "2zndrh7ZKreS"
      }
    },
    {
      "cell_type": "code",
      "source": [
        "from IPython.display import display, Javascript\n",
        "from google.colab.output import eval_js\n",
        "from base64 import b64decode, b64encode\n",
        "import cv2, PIL, io, html, time\n",
        "import numpy as np"
      ],
      "metadata": {
        "id": "m06EMUnhoSvU"
      },
      "execution_count": null,
      "outputs": []
    },
    {
      "cell_type": "markdown",
      "source": [
        "Step 02: Setup analysis"
      ],
      "metadata": {
        "id": "xn2lGrqdKuaE"
      }
    },
    {
      "cell_type": "code",
      "source": [
        "def returnAnalysis(IMG):\n",
        "    facesData = []\n",
        "    IMG = Image.fromarray(IMG)\n",
        "    faces, bbs = extractFace(IMG, FaceDetector, 0.5)\n",
        "    #faces, bbs = extractFace(IMG, FaceDetector, 0.7)\n",
        "    for face, bb in zip(faces, bbs):\n",
        "        tensorIMG = readImage(face)\n",
        "\n",
        "        Age, Gender, C = extractInfo(FaceClassifier, tensorIMG)\n",
        "\n",
        "        textBox = f'{Age} {Gender}'\n",
        "        facesData.append(textBox)\n",
        "\n",
        "    return bbs, facesData"
      ],
      "metadata": {
        "id": "4ROUgrH8oVj8"
      },
      "execution_count": null,
      "outputs": []
    },
    {
      "cell_type": "markdown",
      "source": [
        "Step 03: Setup bounding boxes"
      ],
      "metadata": {
        "id": "rzT7TXDbKxSV"
      }
    },
    {
      "cell_type": "code",
      "source": [
        "# function to convert OpenCV Rectangle bounding box image into base64 byte string to be overlayed on video stream\n",
        "def bbox_to_bytes(bbox_array):\n",
        "  \"\"\"\n",
        "  Params:\n",
        "          bbox_array: Numpy array (pixels) containing rectangle to overlay on video stream.\n",
        "  Returns:\n",
        "        bytes: Base64 image byte string\n",
        "  \"\"\"\n",
        "  # convert array into PIL image\n",
        "  bbox_PIL = PIL.Image.fromarray(bbox_array, 'RGBA')\n",
        "  iobuf = io.BytesIO()\n",
        "  # format bbox into png for return\n",
        "  bbox_PIL.save(iobuf, format='png')\n",
        "  # format return string\n",
        "  bbox_bytes = 'data:image/png;base64,{}'.format((str(b64encode(iobuf.getvalue()), 'utf-8')))\n",
        "\n",
        "  return bbox_bytes\n",
        "  \n",
        "# function to convert the JavaScript object into an OpenCV image\n",
        "def js_to_image(js_reply):\n",
        "  \"\"\"\n",
        "  Params:\n",
        "          js_reply: JavaScript object containing image from webcam\n",
        "  Returns:\n",
        "          img: OpenCV BGR image\n",
        "  \"\"\"\n",
        "  # decode base64 image\n",
        "  image_bytes = b64decode(js_reply.split(',')[1])\n",
        "  # convert bytes to numpy array\n",
        "  jpg_as_np = np.frombuffer(image_bytes, dtype=np.uint8)\n",
        "  # decode numpy array into OpenCV BGR image\n",
        "  img = cv2.imdecode(jpg_as_np, flags=1)\n",
        "\n",
        "  return img\n",
        "\n",
        "# JavaScript to properly create our live video stream using our webcam as input\n",
        "def video_stream():\n",
        "  js = Javascript('''\n",
        "    var video;\n",
        "    var div = null;\n",
        "    var stream;\n",
        "    var captureCanvas;\n",
        "    var imgElement;\n",
        "    var labelElement;\n",
        "    \n",
        "    var pendingResolve = null;\n",
        "    var shutdown = false;\n",
        "    \n",
        "    function removeDom() {\n",
        "       stream.getVideoTracks()[0].stop();\n",
        "       video.remove();\n",
        "       div.remove();\n",
        "       video = null;\n",
        "       div = null;\n",
        "       stream = null;\n",
        "       imgElement = null;\n",
        "       captureCanvas = null;\n",
        "       labelElement = null;\n",
        "    }\n",
        "    \n",
        "    function onAnimationFrame() {\n",
        "      if (!shutdown) {\n",
        "        window.requestAnimationFrame(onAnimationFrame);\n",
        "      }\n",
        "      if (pendingResolve) {\n",
        "        var result = \"\";\n",
        "        if (!shutdown) {\n",
        "          captureCanvas.getContext('2d').drawImage(video, 0, 0, 640, 480);\n",
        "          result = captureCanvas.toDataURL('image/jpeg', 0.8)\n",
        "        }\n",
        "        var lp = pendingResolve;\n",
        "        pendingResolve = null;\n",
        "        lp(result);\n",
        "      }\n",
        "    }\n",
        "    \n",
        "    async function createDom() {\n",
        "      if (div !== null) {\n",
        "        return stream;\n",
        "      }\n",
        "\n",
        "      div = document.createElement('div');\n",
        "      div.style.border = '2px solid black';\n",
        "      div.style.padding = '3px';\n",
        "      div.style.width = '100%';\n",
        "      div.style.maxWidth = '600px';\n",
        "      document.body.appendChild(div);\n",
        "      \n",
        "      const modelOut = document.createElement('div');\n",
        "      modelOut.innerHTML = \"Status:\";\n",
        "      labelElement = document.createElement('span');\n",
        "      labelElement.innerText = 'No data';\n",
        "      labelElement.style.fontWeight = 'bold';\n",
        "      modelOut.appendChild(labelElement);\n",
        "      div.appendChild(modelOut);\n",
        "           \n",
        "      video = document.createElement('video');\n",
        "      video.style.display = 'block';\n",
        "      video.width = div.clientWidth - 6;\n",
        "      video.setAttribute('playsinline', '');\n",
        "      video.onclick = () => { shutdown = true; };\n",
        "      stream = await navigator.mediaDevices.getUserMedia(\n",
        "          {video: { facingMode: \"environment\"}});\n",
        "      div.appendChild(video);\n",
        "\n",
        "      imgElement = document.createElement('img');\n",
        "      imgElement.style.position = 'absolute';\n",
        "      imgElement.style.zIndex = 1;\n",
        "      imgElement.onclick = () => { shutdown = true; };\n",
        "      div.appendChild(imgElement);\n",
        "      \n",
        "      video.srcObject = stream;\n",
        "      await video.play();\n",
        "\n",
        "      captureCanvas = document.createElement('canvas');\n",
        "      captureCanvas.width = 640; //video.videoWidth;\n",
        "      captureCanvas.height = 640; //video.videoHeight; og 480\n",
        "      window.requestAnimationFrame(onAnimationFrame);\n",
        "      \n",
        "      return stream;\n",
        "    }\n",
        "    async function stream_frame(label, imgData) {\n",
        "      if (shutdown) {\n",
        "        removeDom();\n",
        "        shutdown = false;\n",
        "        return '';\n",
        "      }\n",
        "\n",
        "      var preCreate = Date.now();\n",
        "      stream = await createDom();\n",
        "      \n",
        "      var preShow = Date.now();\n",
        "      if (label != \"\") {\n",
        "        labelElement.innerHTML = label;\n",
        "      }\n",
        "            \n",
        "      if (imgData != \"\") {\n",
        "        var videoRect = video.getClientRects()[0];\n",
        "        imgElement.style.top = videoRect.top + \"px\";\n",
        "        imgElement.style.left = videoRect.left + \"px\";\n",
        "        imgElement.style.width = videoRect.width + \"px\";\n",
        "        imgElement.style.height = videoRect.height + \"px\";\n",
        "        imgElement.src = imgData;\n",
        "      }\n",
        "      \n",
        "      var preCapture = Date.now();\n",
        "      var result = await new Promise(function(resolve, reject) {\n",
        "        pendingResolve = resolve;\n",
        "      });\n",
        "      shutdown = false;\n",
        "      \n",
        "      return {'create': preShow - preCreate, \n",
        "              'show': preCapture - preShow, \n",
        "              'capture': Date.now() - preCapture,\n",
        "              'img': result};\n",
        "    }\n",
        "    ''')\n",
        "\n",
        "  display(js)\n",
        "  \n",
        "def video_frame(label, bbox):\n",
        "  data = eval_js('stream_frame(\"{}\", \"{}\")'.format(label, bbox))\n",
        "  return data"
      ],
      "metadata": {
        "id": "b-VfFsNpoYDU"
      },
      "execution_count": null,
      "outputs": []
    },
    {
      "cell_type": "markdown",
      "source": [
        "Step 04: Setup labels"
      ],
      "metadata": {
        "id": "gk8mlxqKK1Zt"
      }
    },
    {
      "cell_type": "code",
      "source": [
        "def draw_label(img, text, pos, bg_color):\n",
        "   font_face = cv2.FONT_HERSHEY_SIMPLEX\n",
        "   scale = 0.4\n",
        "   color = (0, 0, 0)\n",
        "   thickness = cv2.FILLED\n",
        "   margin = 2\n",
        "   txt_size = cv2.getTextSize(text, font_face, scale, thickness)\n",
        "\n",
        "   end_x = int(pos[0] + txt_size[0][0] + margin)\n",
        "   end_y = int(pos[1] - txt_size[0][1] - margin)\n",
        "\n",
        "   cv2.rectangle(img, pos, (end_x, end_y), bg_color, thickness)\n",
        "   cv2.putText(img, text, pos, font_face, scale, color, 1, cv2.LINE_AA)"
      ],
      "metadata": {
        "id": "V-VdPGMxoZVG"
      },
      "execution_count": null,
      "outputs": []
    },
    {
      "cell_type": "markdown",
      "source": [
        "Step 05: Real-time detection/prediction from webcam stream"
      ],
      "metadata": {
        "id": "KSnUG3PFK40H"
      }
    },
    {
      "cell_type": "code",
      "source": [
        "# start streaming video from webcam\n",
        "video_stream()\n",
        "# label for video\n",
        "label_html = ' No Face'\n",
        "# initialze bounding box to empty\n",
        "bbox = ''\n",
        "\n",
        "while True:\n",
        "    jsReply = video_frame(label_html, bbox)\n",
        "    if not jsReply: break\n",
        "\n",
        "    IMG = js_to_image(jsReply[\"img\"])\n",
        "    bbox_array = np.zeros([480, 640, 4], dtype=np.uint8)\n",
        "\n",
        "    boundingBoxes, facesData = returnAnalysis(IMG)\n",
        "    if len(boundingBoxes) > 0: label_html = ' '\n",
        "    else: label_html = ' No Face'\n",
        "    for bb, data in zip(boundingBoxes, facesData):\n",
        "      (x, y), (w, h) = bb\n",
        "      bbox_array = cv2.rectangle(bbox_array, (int(x),int(y)), (int(w),int(h)),(255,0,0), 2)\n",
        "      label_html += data + ' '\n",
        "    \n",
        "    bbox_array[:,:,3] = (bbox_array.max(axis = 2) > 0 ).astype(int) * 255\n",
        "    bbox_bytes = bbox_to_bytes(bbox_array)\n",
        "    bbox = bbox_bytes\n",
        "     "
      ],
      "metadata": {
        "id": "DfkVEKKJoal-"
      },
      "execution_count": null,
      "outputs": []
    },
    {
      "cell_type": "markdown",
      "source": [
        "***UPLOADED VIDEO DETECTION***"
      ],
      "metadata": {
        "id": "WqB9ybZXob3E"
      }
    },
    {
      "cell_type": "markdown",
      "source": [
        "Step 01: Import Dependencies"
      ],
      "metadata": {
        "id": "8NUl873HMNTG"
      }
    },
    {
      "cell_type": "code",
      "source": [
        "import cv2"
      ],
      "metadata": {
        "id": "OE2TDrkhodhc"
      },
      "execution_count": null,
      "outputs": []
    },
    {
      "cell_type": "markdown",
      "source": [
        "Step 02: Set Path for uploaded video (video must be on drive, or drag unto files to the left)"
      ],
      "metadata": {
        "id": "EADENJCGMQhq"
      }
    },
    {
      "cell_type": "code",
      "source": [
        "videoPath = '/home/sklyvan/Downloads/Act of Rage & Rejecta.mp4' #@param {type:\"string\"}\n",
        "\n",
        "name, extension = videoPath.split('/')[-1].split('.')\n",
        "newName = name + ' (FaceDetection)' + '.avi'\n",
        "newPath = '/'.join(videoPath.split('/')[:-1]) + '/' + newName\n",
        "\n",
        "output = cv2.VideoWriter(newPath, cv2.VideoWriter_fourcc('M','J','P','G'), 20, (1920, 1080))\n",
        "\n",
        "print(f\"Output to: {newPath}\")"
      ],
      "metadata": {
        "id": "C0YzE3IOoedW"
      },
      "execution_count": null,
      "outputs": []
    },
    {
      "cell_type": "markdown",
      "source": [
        "Step 03: Setup Analytics"
      ],
      "metadata": {
        "id": "eDKbfdpfMkE1"
      }
    },
    {
      "cell_type": "code",
      "source": [
        "def returnAnalysis(IMG):\n",
        "    facesData = []\n",
        "    IMG = Image.fromarray(IMG)\n",
        "    faces, bbs = extractFace(IMG, FaceDetector, 0.5)\n",
        "    for face, bb in zip(faces, bbs):\n",
        "        tensorIMG = readImage(face)\n",
        "\n",
        "        Age, Gender, C = extractInfo(FaceClassifier, tensorIMG)\n",
        "\n",
        "        textBox = f'{Age} {Gender}'\n",
        "        facesData.append(textBox)\n",
        "\n",
        "    return bbs, facesData"
      ],
      "metadata": {
        "id": "AWhVE_pyoft0"
      },
      "execution_count": null,
      "outputs": []
    },
    {
      "cell_type": "markdown",
      "source": [
        "Step 04: Setup labeling"
      ],
      "metadata": {
        "id": "XDo7lsw7MntJ"
      }
    },
    {
      "cell_type": "code",
      "source": [
        "def draw_label(img, text, pos, bg_color):\n",
        "    font_face = cv2.FONT_HERSHEY_SIMPLEX\n",
        "    scale = 0.4\n",
        "    color = (0, 0, 0)\n",
        "    thickness = cv2.FILLED\n",
        "    margin = 2\n",
        "    txt_size = cv2.getTextSize(text, font_face, scale, thickness)\n",
        "    \n",
        "    end_x = pos[0] + txt_size[0][0] + margin\n",
        "    end_y = pos[1] - txt_size[0][1] - margin\n",
        "\n",
        "    cv2.rectangle(img, pos, (end_x, end_y), bg_color, thickness)\n",
        "    cv2.putText(img, text, pos, font_face, scale, color, 1, cv2.LINE_AA)"
      ],
      "metadata": {
        "id": "hxOzluCEog4Y"
      },
      "execution_count": null,
      "outputs": []
    },
    {
      "cell_type": "markdown",
      "source": [
        "Step 05: Run on video"
      ],
      "metadata": {
        "id": "GdPIVgHbMqmn"
      }
    },
    {
      "cell_type": "code",
      "source": [
        "\n",
        "videoCapture = cv2.VideoCapture(videoPath)\n",
        "\n",
        "while videoCapture.isOpened():\n",
        "    isCorrect, lastFrame = videoCapture.read()\n",
        "    if isCorrect:\n",
        "        BoundingBoxes, Labels = returnAnalysis(lastFrame)\n",
        "        for bb, lbl in zip(BoundingBoxes, Labels):\n",
        "            (x, y), (w, h) = bb\n",
        "            print('Face!')\n",
        "            cv2.rectangle(lastFrame, (int(x),int(y)), (int(w),int(h)), (255,0,0), 2)\n",
        "            draw_label(lastFrame, lbl, (int(x),int(y)), (255, 0, 0))\n",
        "            \n",
        "        output.write(lastFrame)\n",
        "        cv2.imshow('Frame', lastFrame)\n",
        "        Key = cv2.waitKey(20)\n",
        "        if Key == ord('q'): break\n",
        "    else:\n",
        "        break\n",
        "else:\n",
        "    print(\"Something went wrong.\")\n",
        "        \n",
        "videoCapture.release()\n",
        "cv2.destroyAllWindows()"
      ],
      "metadata": {
        "id": "Mmevflz1oh9A"
      },
      "execution_count": null,
      "outputs": []
    },
    {
      "cell_type": "markdown",
      "source": [
        "This Colab Notebook was created by Laure Michelon for her course. The notebook builds off of the notebook by [Sklyvan](https://github.com/Sklyvan/Age-Gender-Prediction/blob/main/Face%20Detection:%20Age%20%26%20Gender%20Detection.ipynb) with tweaks made for class.\n"
      ],
      "metadata": {
        "id": "jqbQVUJCIhJ7"
      }
    }
  ]
}