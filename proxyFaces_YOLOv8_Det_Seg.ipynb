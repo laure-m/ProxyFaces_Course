{
  "nbformat": 4,
  "nbformat_minor": 0,
  "metadata": {
    "colab": {
      "provenance": [],
      "authorship_tag": "ABX9TyOJ5ERI9uqhFM+YdHH1d8Jy",
      "include_colab_link": true
    },
    "kernelspec": {
      "name": "python3",
      "display_name": "Python 3"
    },
    "language_info": {
      "name": "python"
    },
    "accelerator": "GPU",
    "gpuClass": "standard"
  },
  "cells": [
    {
      "cell_type": "markdown",
      "metadata": {
        "id": "view-in-github",
        "colab_type": "text"
      },
      "source": [
        "<a href=\"https://colab.research.google.com/github/laure-m/ProxyFaces_Course/blob/main/proxyFaces_YOLOv8_Det_Seg.ipynb\" target=\"_parent\"><img src=\"https://colab.research.google.com/assets/colab-badge.svg\" alt=\"Open In Colab\"/></a>"
      ]
    },
    {
      "cell_type": "markdown",
      "source": [
        "PROXY FACES UCLA AUD SPRING TECH SEMINAR \n",
        "#YOLOv8 Detection + Segmentation Notebook\n",
        "This notebook will walkthrough all the steps for performing YOLOv8 object detections and segmentations on images while in Google Colab. We will be using yolov8 for this tutorial."
      ],
      "metadata": {
        "id": "YtS5XZWxyBg7"
      }
    },
    {
      "cell_type": "markdown",
      "source": [
        "***00.INITIAL SETUP***\n",
        "\n",
        "00.01: Install Required Library, Ultralytics Library"
      ],
      "metadata": {
        "id": "RE3GmovNyOw3"
      }
    },
    {
      "cell_type": "code",
      "execution_count": null,
      "metadata": {
        "id": "Epo606iWx6dA"
      },
      "outputs": [],
      "source": [
        "from IPython.display import Image"
      ]
    },
    {
      "cell_type": "code",
      "source": [
        "!pip install ultralytics==8.0.0"
      ],
      "metadata": {
        "id": "spUfVLwcyZew"
      },
      "execution_count": null,
      "outputs": []
    },
    {
      "cell_type": "markdown",
      "source": [
        "00.02: Check whether or not GPU is available"
      ],
      "metadata": {
        "id": "zBwM7jL4ykBa"
      }
    },
    {
      "cell_type": "code",
      "source": [
        "import torch"
      ],
      "metadata": {
        "id": "s9BivPZyycrA"
      },
      "execution_count": null,
      "outputs": []
    },
    {
      "cell_type": "code",
      "source": [
        "torch.cuda.is_available()"
      ],
      "metadata": {
        "id": "xQ12W-hEyduW"
      },
      "execution_count": null,
      "outputs": []
    },
    {
      "cell_type": "markdown",
      "source": [
        "IF the above cell says **'True'** after running > proceed to next cell\n",
        "\n",
        "IF the above cell says **'False'** make sure Runtime>Change Runtime Type>Hardware Accellerator is set to GPU"
      ],
      "metadata": {
        "id": "irpaPbVAR_vE"
      }
    },
    {
      "cell_type": "code",
      "source": [
        "torch.__version__"
      ],
      "metadata": {
        "id": "cK35Ni4Lyexa"
      },
      "execution_count": null,
      "outputs": []
    },
    {
      "cell_type": "markdown",
      "source": [
        "***01.TAKE WEBCAM PICTURE***"
      ],
      "metadata": {
        "id": "V-2KAY-hyyVm"
      }
    },
    {
      "cell_type": "markdown",
      "source": [
        "01.01: Webcam Setup"
      ],
      "metadata": {
        "id": "wU_2V6FtKN_k"
      }
    },
    {
      "cell_type": "code",
      "source": [
        "from IPython.display import display, Javascript\n",
        "from google.colab.output import eval_js\n",
        "from base64 import b64decode\n",
        "\n",
        "def take_photo(filename='photo.jpg', quality=0.8):\n",
        "  js = Javascript('''\n",
        "    async function takePhoto(quality) {\n",
        "      const div = document.createElement('div');\n",
        "      const capture = document.createElement('button');\n",
        "      capture.textContent = 'Capture';\n",
        "      div.appendChild(capture);\n",
        "\n",
        "      const video = document.createElement('video');\n",
        "      video.style.display = 'block';\n",
        "      const stream = await navigator.mediaDevices.getUserMedia({video: true});\n",
        "\n",
        "      document.body.appendChild(div);\n",
        "      div.appendChild(video);\n",
        "      video.srcObject = stream;\n",
        "      await video.play();\n",
        "\n",
        "      // Resize the output to fit the video element.\n",
        "      google.colab.output.setIframeHeight(document.documentElement.scrollHeight, true);\n",
        "\n",
        "      // Wait for Capture to be clicked.\n",
        "      await new Promise((resolve) => capture.onclick = resolve);\n",
        "\n",
        "      const canvas = document.createElement('canvas');\n",
        "      canvas.width = video.videoWidth;\n",
        "      canvas.height = video.videoHeight;\n",
        "      canvas.getContext('2d').drawImage(video, 0, 0);\n",
        "      stream.getVideoTracks()[0].stop();\n",
        "      div.remove();\n",
        "      return canvas.toDataURL('image/jpeg', quality);\n",
        "    }\n",
        "    ''')\n",
        "  display(js)\n",
        "  data = eval_js('takePhoto({})'.format(quality))\n",
        "  binary = b64decode(data.split(',')[1])\n",
        "  with open(filename, 'wb') as f:\n",
        "    f.write(binary)\n",
        "  return filename"
      ],
      "metadata": {
        "id": "jTkPjTk7zS_F"
      },
      "execution_count": null,
      "outputs": []
    },
    {
      "cell_type": "markdown",
      "source": [
        "01.02: Take Webcam Image (it will be saved as \"photo.jpg\")"
      ],
      "metadata": {
        "id": "csW3ozOOKTOG"
      }
    },
    {
      "cell_type": "code",
      "source": [
        "from IPython.display import Image\n",
        "try:\n",
        "  filename = take_photo()\n",
        "  print('Saved to {}'.format(filename))\n",
        "  \n",
        "  # Show the image which was just taken.\n",
        "  display(Image(filename))\n",
        "except Exception as err:\n",
        "  # Errors will be thrown if the user does not have a webcam or if they do not\n",
        "  # grant the page permission to access it.\n",
        "  print(str(err))"
      ],
      "metadata": {
        "id": "g-Nvpo_SzU4J"
      },
      "execution_count": null,
      "outputs": []
    },
    {
      "cell_type": "markdown",
      "source": [
        "***02.WEBCAM IMAGE OBJECT DETECTION*** \n",
        "\n",
        "02.01: Run detection on image"
      ],
      "metadata": {
        "id": "sYzwNPatz7lA"
      }
    },
    {
      "cell_type": "code",
      "source": [
        "!yolo task=detect mode=predict model=yolov8s.pt source='/content/photo.jpg' "
      ],
      "metadata": {
        "id": "86Mvyfmoz-is"
      },
      "execution_count": null,
      "outputs": []
    },
    {
      "cell_type": "markdown",
      "source": [
        "02.02: Display Output Image"
      ],
      "metadata": {
        "id": "87CxPSi60Ccw"
      }
    },
    {
      "cell_type": "code",
      "source": [
        "Image('/content/runs/detect/predict/photo.jpg')"
      ],
      "metadata": {
        "id": "UWksnifa0FnI"
      },
      "execution_count": null,
      "outputs": []
    },
    {
      "cell_type": "markdown",
      "source": [
        "*NOTE - if you have tested multiple images in a row the folder name will increase each time, and you will need to edit the above code to match the folder you want to display*"
      ],
      "metadata": {
        "id": "tbsJGjv8bXDw"
      }
    },
    {
      "cell_type": "markdown",
      "source": [
        "***03.WEBCAM IMAGE SEGMENTATION*** \n",
        "\n",
        "03.01: Run segmentation on image"
      ],
      "metadata": {
        "id": "MIQZtrE01NdN"
      }
    },
    {
      "cell_type": "code",
      "source": [
        "!yolo task=segment mode=predict model=yolov8s-seg.pt source='/content/photo.jpg' "
      ],
      "metadata": {
        "id": "uTKBTvvZ1qG3"
      },
      "execution_count": null,
      "outputs": []
    },
    {
      "cell_type": "markdown",
      "source": [
        "03.02: Display output image"
      ],
      "metadata": {
        "id": "DcqeyD8cJzTU"
      }
    },
    {
      "cell_type": "code",
      "source": [
        "Image('/content/runs/segment/predict/photo.jpg')"
      ],
      "metadata": {
        "id": "SmDkbsJV1yy1"
      },
      "execution_count": null,
      "outputs": []
    },
    {
      "cell_type": "markdown",
      "source": [
        "*NOTE - if you have tested multiple images in a row the folder name will increase each time, and you will need to edit the above code to match the folder you want to display*"
      ],
      "metadata": {
        "id": "BXxsGKQjbVvy"
      }
    },
    {
      "cell_type": "markdown",
      "source": [
        "_________________________________________________________________"
      ],
      "metadata": {
        "id": "I7p1WpVXbppi"
      }
    },
    {
      "cell_type": "markdown",
      "source": [
        "***04.ALTERNATIVE OPTION - UPLOAD IMAGE***\n",
        "\n"
      ],
      "metadata": {
        "id": "eBO4GC8nKvbH"
      }
    },
    {
      "cell_type": "markdown",
      "source": [
        "04.01: Run next cell to upload an image \n",
        "> - must be smaller than SD or you run out of memory\n",
        "> - you can upload multiples but you can only detect or segment one at a time"
      ],
      "metadata": {
        "id": "jHw6oq-4b2IO"
      }
    },
    {
      "cell_type": "code",
      "source": [
        "from google.colab import files\n",
        "uploaded = files.upload()"
      ],
      "metadata": {
        "id": "fSmTs2WVZ6nF"
      },
      "execution_count": null,
      "outputs": []
    },
    {
      "cell_type": "markdown",
      "source": [
        "04.02: Choose the image you want to test first, find it in the file structure to the left, hover over it, click the dots and copy the path into the cell below"
      ],
      "metadata": {
        "id": "VeCF_1q_aH0L"
      }
    },
    {
      "cell_type": "code",
      "source": [
        "#@markdown **UPLOADED IMAGE PATH**\n",
        "image_path = \"/content/maskImage.png\" #@param {type:\"string\"}\n",
        "#image = str(image_path) - str(image_path[9:])\n",
        "image = image_path.replace('/content/', '')"
      ],
      "metadata": {
        "id": "KBcMu4bYLJ5k"
      },
      "execution_count": null,
      "outputs": []
    },
    {
      "cell_type": "markdown",
      "source": [
        "***05.UPLOADED IMAGE OBJECT DETECTION*** "
      ],
      "metadata": {
        "id": "jnFryAz6LRX5"
      }
    },
    {
      "cell_type": "markdown",
      "source": [
        "05.01: Run detection on image"
      ],
      "metadata": {
        "id": "WfbzX0gMdYeL"
      }
    },
    {
      "cell_type": "code",
      "source": [
        "# Importing the modules\n",
        "import os\n",
        "import shutil\n",
        "\n",
        "shutil.copy(image_path,'/content/tmpimg.jpg') #copy the og file to temporary folder\n",
        "\n",
        "%cd /content/\n",
        "\n",
        "!yolo task=detect mode=predict model=yolov8s.pt source='/content/tmpimg.jpg' "
      ],
      "metadata": {
        "id": "0y7OiLuSVIGM"
      },
      "execution_count": null,
      "outputs": []
    },
    {
      "cell_type": "markdown",
      "source": [
        "05.02: Display Output Image"
      ],
      "metadata": {
        "id": "eCKHKZeRMdTO"
      }
    },
    {
      "cell_type": "code",
      "source": [
        "Image('/content/runs/detect/predict/tmpimg.jpg')"
      ],
      "metadata": {
        "id": "kGdw2GddMIhH"
      },
      "execution_count": null,
      "outputs": []
    },
    {
      "cell_type": "markdown",
      "source": [
        "*NOTE - if you have tested multiple images in a row the folder name will increase each time, and you will need to edit the above code to match the folder you want to display*"
      ],
      "metadata": {
        "id": "DnBz28oVbHcq"
      }
    },
    {
      "cell_type": "markdown",
      "source": [
        "***06.UPLOADED IMAGE SEGMENTATION*** "
      ],
      "metadata": {
        "id": "I1dLdt5rR2ek"
      }
    },
    {
      "cell_type": "markdown",
      "source": [
        "06.01: Run Segmentation on Image"
      ],
      "metadata": {
        "id": "Z0bGIQf3dc9f"
      }
    },
    {
      "cell_type": "code",
      "source": [
        "!yolo task=segment mode=predict model=yolov8s-seg.pt source='/content/tmpimg.jpg' "
      ],
      "metadata": {
        "id": "pIOwncfFX-gB"
      },
      "execution_count": null,
      "outputs": []
    },
    {
      "cell_type": "markdown",
      "source": [
        "06.02: Display output image"
      ],
      "metadata": {
        "id": "vRxATxTLYQUi"
      }
    },
    {
      "cell_type": "code",
      "source": [
        "Image('/content/runs/segment/predict/tmpimg.jpg')"
      ],
      "metadata": {
        "id": "d7gxnJ3jYN6Q"
      },
      "execution_count": null,
      "outputs": []
    },
    {
      "cell_type": "markdown",
      "source": [
        "*NOTE - if you have tested multiple images in a row the folder name will increase each time, and you will need to edit the above code to match the folder you want to display*"
      ],
      "metadata": {
        "id": "L5zN32AHbUcG"
      }
    },
    {
      "cell_type": "markdown",
      "source": [
        "________________________________________________________________\n"
      ],
      "metadata": {
        "id": "Ob-ZFSrWf40b"
      }
    },
    {
      "cell_type": "markdown",
      "source": [
        "This Colab Notebook was created by Laure Michelon for her course. The notebook builds off of [THIS NOTEBOOK](https://colab.research.google.com/drive/1Chb8DSVcmmsOmse312NLitRokYsR6-hi?usp=sharing) with tweaks made for class. "
      ],
      "metadata": {
        "id": "nVKDpdNif6o9"
      }
    }
  ]
}